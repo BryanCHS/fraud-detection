{
 "cells": [
  {
   "cell_type": "markdown",
   "id": "ee8f51a8-1943-42b9-95f7-e308ebffbd69",
   "metadata": {},
   "source": []
  },
  {
   "cell_type": "code",
   "execution_count": null,
   "id": "9523f93e-ba56-49a4-b866-ea34b2b1c3da",
   "metadata": {},
   "outputs": [],
   "source": [
    "import "
   ]
  },
  {
   "cell_type": "code",
   "execution_count": null,
   "id": "b2195d7f-3e49-4321-82f7-667d0a0f7e04",
   "metadata": {},
   "outputs": [],
   "source": []
  },
  {
   "cell_type": "markdown",
   "id": "12a9186c-066a-4f16-ac71-7f0bb35eca26",
   "metadata": {},
   "source": [
    "Use pyspark to analize the data"
   ]
  }
 ],
 "metadata": {
  "kernelspec": {
   "display_name": "Python 3 (ipykernel)",
   "language": "python",
   "name": "python3"
  },
  "language_info": {
   "codemirror_mode": {
    "name": "ipython",
    "version": 3
   },
   "file_extension": ".py",
   "mimetype": "text/x-python",
   "name": "python",
   "nbconvert_exporter": "python",
   "pygments_lexer": "ipython3",
   "version": "3.12.3"
  }
 },
 "nbformat": 4,
 "nbformat_minor": 5
}
