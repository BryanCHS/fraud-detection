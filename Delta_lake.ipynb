{
 "cells": [
  {
   "cell_type": "markdown",
   "id": "39a07b16-bb9c-4e18-864f-8fdc932a3bf9",
   "metadata": {},
   "source": [
    "# Delta Lake"
   ]
  },
  {
   "cell_type": "markdown",
   "id": "b8a59ee4-600a-4984-b9a1-168a02a83f6a",
   "metadata": {},
   "source": [
    "The idea of this section is to create a basic version of a delta lake, for the specific dataset - using open source tools such as airflow and pyspark"
   ]
  },
  {
   "cell_type": "code",
   "execution_count": 36,
   "id": "f13da058-7e3d-49a0-a435-87f4221d83de",
   "metadata": {},
   "outputs": [
    {
     "data": {
      "text/html": [
       "<pre style=\"white-space:pre;overflow-x:auto;line-height:normal;font-family:Menlo,'DejaVu Sans Mono',consolas,'Courier New',monospace\"><span style=\"color: #808000; text-decoration-color: #808000; font-weight: bold\">/tmp/ipykernel_859/3101023649.py:</span><span style=\"color: #808000; text-decoration-color: #808000; font-weight: bold\">3</span><span style=\"color: #808000; text-decoration-color: #808000; font-weight: bold\"> DeprecationWarning</span><span style=\"color: #808000; text-decoration-color: #808000\">: The `airflow.operators.python_operator.PythonOperator` class is deprecated. Please use `</span><span style=\"color: #808000; text-decoration-color: #808000\">'airflow.operators.python.PythonOperator'</span><span style=\"color: #808000; text-decoration-color: #808000\">`.</span>\n",
       "</pre>\n"
      ],
      "text/plain": [
       "\u001b[1;33m/tmp/ipykernel_859/\u001b[0m\u001b[1;33m3101023649.py\u001b[0m\u001b[1;33m:\u001b[0m\u001b[1;33m3\u001b[0m\u001b[1;33m DeprecationWarning\u001b[0m\u001b[33m: The `airflow.operators.python_operator.PythonOperator` class is deprecated. Please use `\u001b[0m\u001b[33m'airflow.operators.python.PythonOperator'\u001b[0m\u001b[33m`.\u001b[0m\n"
      ]
     },
     "metadata": {},
     "output_type": "display_data"
    }
   ],
   "source": [
    "import pandas as pd\n",
    "from airflow import DAG\n",
    "from airflow.operators.python_operator import PythonOperator\n",
    "from pyspark.sql import SparkSession\n",
    "from delta import configure_spark_with_delta_pip\n",
    "from datetime import datetime\n"
   ]
  },
  {
   "cell_type": "markdown",
   "id": "1c7282d5-0bb0-4539-8f88-bac53c8c0196",
   "metadata": {},
   "source": [
    "Create a function to start a spark session. Then, It would be possible "
   ]
  },
  {
   "cell_type": "code",
   "execution_count": 37,
   "id": "06a58931-b296-499b-a6f5-fb690c8a2f86",
   "metadata": {},
   "outputs": [],
   "source": [
    "# Create Spark Session \n",
    "def create_spark_session():\n",
    "    builder = (\n",
    "        SparkSession.builder.appName(\"DeltaLake Pipeline\")\n",
    "        .config(\"spark.sql.extensions\", \"io.delta.sql.DeltaSparkSessionExtension\")\n",
    "        .config(\"spark.sql.catalog.spark_catalog\", \"org.apache.spark.sql.delta.catalog.DeltaCatalog\")\n",
    "    )\n",
    "\n",
    "    return configure_spark_with_delta_pip(builder).getOrCreate()"
   ]
  },
  {
   "cell_type": "markdown",
   "id": "0908ae4a-28ab-452b-a72e-de967c22f5b7",
   "metadata": {},
   "source": [
    "Basically, a Delta lake it's based on three principal states. You want to store all your data, without any transformation. This is called the Bronze state of data. In this case, we will create a bronze table for each table of our original excel:"
   ]
  },
  {
   "cell_type": "code",
   "execution_count": 38,
   "id": "d13a42d7-7287-450b-bafd-85cc25b98e4d",
   "metadata": {},
   "outputs": [],
   "source": [
    "# Bronze state\n",
    "def bronze():\n",
    "    \n",
    "    spark = create_spark_session()\n",
    "    df =  spark.read.csv( \"Data/Transacciones_Prueba_Especialista_Prevencion_Fraude.xlsx\", header = True, inferSchema = True)\n",
    "    df.write.format(\"delta\").mode(\"overwrite\").save(\"Data/bronze_table\")"
   ]
  },
  {
   "cell_type": "markdown",
   "id": "c7241b7f-884b-488b-bb37-758b9faccb43",
   "metadata": {},
   "source": []
  },
  {
   "cell_type": "code",
   "execution_count": null,
   "id": "170f7fef-6b71-4512-80a8-24ad6f6eccf6",
   "metadata": {},
   "outputs": [],
   "source": []
  },
  {
   "cell_type": "code",
   "execution_count": 39,
   "id": "f3df46ce-61df-4316-9436-0b44e7b7fae1",
   "metadata": {},
   "outputs": [],
   "source": [
    "# Gold State"
   ]
  },
  {
   "cell_type": "code",
   "execution_count": 40,
   "id": "71a7cd03-0fbb-4628-9b12-4b3d587bb9e7",
   "metadata": {},
   "outputs": [
    {
     "data": {
      "text/html": [
       "<pre style=\"white-space:pre;overflow-x:auto;line-height:normal;font-family:Menlo,'DejaVu Sans Mono',consolas,'Courier New',monospace\"><span style=\"color: #808000; text-decoration-color: #808000; font-weight: bold\">/tmp/ipykernel_859/3833078103.py:</span><span style=\"color: #808000; text-decoration-color: #808000; font-weight: bold\">3</span><span style=\"color: #808000; text-decoration-color: #808000; font-weight: bold\"> RemovedInAirflow3Warning</span><span style=\"color: #808000; text-decoration-color: #808000\">: Param `schedule_interval` is deprecated and will be removed in a future release. Please use `schedule` instead.</span>\n",
       "</pre>\n"
      ],
      "text/plain": [
       "\u001b[1;33m/tmp/ipykernel_859/\u001b[0m\u001b[1;33m3833078103.py\u001b[0m\u001b[1;33m:\u001b[0m\u001b[1;33m3\u001b[0m\u001b[1;33m RemovedInAirflow3Warning\u001b[0m\u001b[33m: Param `schedule_interval` is deprecated and will be removed in a future release. Please use `schedule` instead.\u001b[0m\n"
      ]
     },
     "metadata": {},
     "output_type": "display_data"
    }
   ],
   "source": [
    "# Airflow DAG\n",
    "default_args = {\"owner\":\"airflow\", \"start_date\": datetime(2025,1,1)}\n",
    "dag = DAG(\"delta_medallion_architecture\", default_args = default_args, schedule_interval=\"@daily\",catchup=False)"
   ]
  },
  {
   "cell_type": "code",
   "execution_count": 41,
   "id": "733826e2-f7e6-4035-8054-3eddef780150",
   "metadata": {},
   "outputs": [],
   "source": [
    "# DAG tasks\n",
    "task_bronze = PythonOperator( task_id=\"load_bronze\", python_callable=bronze,dag=dag) "
   ]
  },
  {
   "cell_type": "code",
   "execution_count": 42,
   "id": "05b3e942-6ae6-49f6-b008-94e9e32befcd",
   "metadata": {},
   "outputs": [
    {
     "data": {
      "text/plain": [
       "<Task(PythonOperator): load_bronze>"
      ]
     },
     "execution_count": 42,
     "metadata": {},
     "output_type": "execute_result"
    }
   ],
   "source": [
    "# Order\n",
    "task_bronze"
   ]
  },
  {
   "cell_type": "code",
   "execution_count": null,
   "id": "140f402e-2a86-4469-bcdc-28e9d9e829f9",
   "metadata": {},
   "outputs": [],
   "source": []
  }
 ],
 "metadata": {
  "kernelspec": {
   "display_name": "Python 3 (ipykernel)",
   "language": "python",
   "name": "python3"
  },
  "language_info": {
   "codemirror_mode": {
    "name": "ipython",
    "version": 3
   },
   "file_extension": ".py",
   "mimetype": "text/x-python",
   "name": "python",
   "nbconvert_exporter": "python",
   "pygments_lexer": "ipython3",
   "version": "3.12.3"
  }
 },
 "nbformat": 4,
 "nbformat_minor": 5
}
