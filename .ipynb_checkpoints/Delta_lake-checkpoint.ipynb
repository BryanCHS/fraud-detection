{
 "cells": [
  {
   "cell_type": "markdown",
   "id": "39a07b16-bb9c-4e18-864f-8fdc932a3bf9",
   "metadata": {},
   "source": [
    "# Delta Lake"
   ]
  },
  {
   "cell_type": "markdown",
   "id": "b8a59ee4-600a-4984-b9a1-168a02a83f6a",
   "metadata": {},
   "source": [
    "The idea of this section is to create a basic version of a delta lake, for the specific dataset - using open source tools such as airflow and pyspark"
   ]
  },
  {
   "cell_type": "code",
   "execution_count": 1,
   "id": "f13da058-7e3d-49a0-a435-87f4221d83de",
   "metadata": {},
   "outputs": [],
   "source": [
    "import pandas as pd\n",
    "from airflow import DAG\n",
    "from pyspark.sql import SparkSession\n",
    "from delta import configure_spark_with_delta_pip"
   ]
  },
  {
   "cell_type": "markdown",
   "id": "1c7282d5-0bb0-4539-8f88-bac53c8c0196",
   "metadata": {},
   "source": [
    "Create a function to start a spark session. Then, It would be possible "
   ]
  },
  {
   "cell_type": "code",
   "execution_count": 2,
   "id": "06a58931-b296-499b-a6f5-fb690c8a2f86",
   "metadata": {},
   "outputs": [],
   "source": [
    "# Create Spark Session \n",
    "def create_spark_session():\n",
    "    builder = (\n",
    "        SparkSession.builder.appName(\"DeltaLake Pipeline\")\n",
    "        .config(\"spark.sql.extensions\", \"io.delta.sql.DeltaSparkSessionExtension\")\n",
    "        .config(\"spark.sql.catalog.spark_catalog\", \"org.apache.spark.sql.delta.catalog.DeltaCatalog\")\n",
    "    )\n",
    "\n",
    "    return configure_spark_with_delta_pip(builder).getOrCreate()"
   ]
  },
  {
   "cell_type": "code",
   "execution_count": 4,
   "id": "d13a42d7-7287-450b-bafd-85cc25b98e4d",
   "metadata": {},
   "outputs": [],
   "source": [
    "# Bronze state\n",
    "def bronze():\n",
    "    \n",
    "    spark = create_spark_session()\n",
    "    df =  spark.read.csv( \"Data/Transacciones_Prueba_Especialista_Prevencion_Fraude.xlsx\", header = True, inferSchema = True)\n",
    "    df.write.format(\"delta\").mode(\"overwrite\").save(\"Data/\")"
   ]
  },
  {
   "cell_type": "code",
   "execution_count": null,
   "id": "170f7fef-6b71-4512-80a8-24ad6f6eccf6",
   "metadata": {},
   "outputs": [],
   "source": [
    "# Silver state\n",
    "def silver():\n",
    "    spark = create_spark_session()\n",
    "\n",
    "    #read bronze table\n",
    "    df = spark.read.format(\"delta\").load()\n",
    "\n",
    "    df_clean = "
   ]
  },
  {
   "cell_type": "code",
   "execution_count": null,
   "id": "f3df46ce-61df-4316-9436-0b44e7b7fae1",
   "metadata": {},
   "outputs": [],
   "source": [
    "# Gold State"
   ]
  },
  {
   "cell_type": "code",
   "execution_count": null,
   "id": "71a7cd03-0fbb-4628-9b12-4b3d587bb9e7",
   "metadata": {},
   "outputs": [],
   "source": [
    "# Airflow DAG\n",
    "default_args"
   ]
  },
  {
   "cell_type": "code",
   "execution_count": null,
   "id": "733826e2-f7e6-4035-8054-3eddef780150",
   "metadata": {},
   "outputs": [],
   "source": [
    "# DAG tasks\n",
    "task_bronze = "
   ]
  },
  {
   "cell_type": "code",
   "execution_count": null,
   "id": "05b3e942-6ae6-49f6-b008-94e9e32befcd",
   "metadata": {},
   "outputs": [],
   "source": [
    "# Order"
   ]
  }
 ],
 "metadata": {
  "kernelspec": {
   "display_name": "Python 3 (ipykernel)",
   "language": "python",
   "name": "python3"
  },
  "language_info": {
   "codemirror_mode": {
    "name": "ipython",
    "version": 3
   },
   "file_extension": ".py",
   "mimetype": "text/x-python",
   "name": "python",
   "nbconvert_exporter": "python",
   "pygments_lexer": "ipython3",
   "version": "3.12.3"
  }
 },
 "nbformat": 4,
 "nbformat_minor": 5
}
